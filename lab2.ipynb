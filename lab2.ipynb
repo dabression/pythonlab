{
 "cells": [
  {
   "cell_type": "markdown",
   "id": "fifteen-sailing",
   "metadata": {
    "id": "fifteen-sailing"
   },
   "source": [
    "# Лабораторная работа №4\n",
    "## Выполнил студент группы БСТ2103 Бидная М.В."
   ]
  },
  {
   "cell_type": "markdown",
   "id": "arctic-stocks",
   "metadata": {
    "id": "arctic-stocks"
   },
   "source": [
    "Реализовать следующие структуры данных:\n",
    "  \n",
    "● <b> Стек (stack): </b>  \n",
    "Операции для стека: \n",
    "<i> инициализация, проверка на пустоту, добавление нового элемента в начало, извлечение элемента из начала;  </i>  \n",
    "  \n",
    "● <b> Дек (двусторонняя очередь, deque):  </b>  \n",
    "Операции для дека: \n",
    "<i> инициализация, проверка на пустоту, добавление нового элемента в начало, добавление нового элемента в конец, извлечение элемента из начала, извлечение элемента из конца. </i>  \n",
    "  \n",
    "<i> Разработать программу обработки данных, содержащихся в заранее подготовленном txt-файле, в соответствии с заданиями, применив указанную в задании структуру данных. Результат работы программы вывести на экран и сохранить в отдельном txt-файле. </i>"
   ]
  },
  {
   "cell_type": "markdown",
   "id": "5d7edb08",
   "metadata": {
    "id": "5d7edb08",
    "scrolled": true
   },
   "source": [
    "### Задание №1\n",
    "Отсортировать строки файла, содержащие названия книг, в алфавитном порядке с использованием двух деков."
   ]
  },
  {
   "cell_type": "code",
   "execution_count": 21,
   "id": "17702ade",
   "metadata": {
    "id": "17702ade"
   },
   "outputs": [],
   "source": [
    "class Queue:\n",
    "\n",
    "    def __init__(self):\n",
    "        self.queue = []\n",
    "\n",
    "    def enqueue(self, item):\n",
    "        self.queue.append(item)\n",
    "    def dequeue(self):\n",
    "        if len(self.queue) < 1:\n",
    "            return None\n",
    "        return self.queue.pop()\n",
    "    def display(self):\n",
    "        print(self.queue)\n",
    "    def size(self):\n",
    "        return len(self.queue)\n",
    "\n",
    "\n",
    "\n",
    "class Deque:\n",
    "    def __init__(self):\n",
    "        self.values = []\n",
    "\n",
    "    def isEmpty(self):\n",
    "        return self.values == []\n",
    "\n",
    "    def addRight(self, val):\n",
    "        self.values.append(val)\n",
    "\n",
    "    def addLeft(self, val):\n",
    "        self.values.insert(0, val)\n",
    "\n",
    "    def removeRight(self):\n",
    "        try:\n",
    "          tmp = self.values[-1]\n",
    "          self.values = self.values[0:-1]\n",
    "          return tmp\n",
    "        except:\n",
    "          print(\"deque is empty\")\n",
    "\n",
    "    def removeLeft(self):\n",
    "        try:\n",
    "          tmp = self.values[0]\n",
    "          self.values = self.values[1:]\n",
    "          return tmp\n",
    "        except:\n",
    "          print(\"deque is empty\")\n",
    "        \n",
    "\n",
    "    def size(self):\n",
    "        return len(self.values)\n",
    "\n",
    "    def indexOf(self, findIndex):\n",
    "      for ind in range(len(self.values)):\n",
    "        if self.values[ind] == findIndex:\n",
    "          return ind\n",
    "    "
   ]
  },
  {
   "cell_type": "code",
   "execution_count": 8,
   "id": "8SrHEhiILrby",
   "metadata": {
    "colab": {
     "base_uri": "https://localhost:8080/"
    },
    "id": "8SrHEhiILrby",
    "outputId": "d2f3c15f-6eba-4852-b968-19b7bae66fd6"
   },
   "outputs": [
    {
     "name": "stdout",
     "output_type": "stream",
     "text": [
      "['1', 'О дивный новый мир, Война и мир, Дубровский, Тихий дон']\n"
     ]
    }
   ],
   "source": [
    "deq1, deq2 = Deque(), Deque()\n",
    "with open(\"книги.txt\") as file:\n",
    "  f = file.read()\n",
    "  f = f.split(\"\\n\")\n",
    "  for fi in f:\n",
    "    deq1.addRight(fi)\n",
    "deq2.addRight(\"1\")\n",
    "while deq1.values:\n",
    "  x = deq1.removeRight()\n",
    "  while deq1.size() != 0 and deq2.values[-1] > x:\n",
    "      deq1.addLeft(deq2.removeRight())\n",
    "  deq2.addRight(x)\n",
    "    \n",
    "print(deq2.values)\n"
   ]
  },
  {
   "cell_type": "code",
   "execution_count": null,
   "id": "m0C_OfN160sS",
   "metadata": {
    "id": "m0C_OfN160sS"
   },
   "outputs": [],
   "source": []
  },
  {
   "cell_type": "markdown",
   "id": "49fbd2a0",
   "metadata": {
    "id": "49fbd2a0"
   },
   "source": [
    "### Задание №2\n",
    "Дек содержит последовательность символов для шифровки сообщений. Дан текстовый файл, содержащий зашифрованное сообщение. Пользуясь деком, расшифровать текст. \n",
    "Известно, что при шифровке каждый символ сообщения заменялся следующим за ним в деке по часовой стрелке через один."
   ]
  },
  {
   "cell_type": "code",
   "execution_count": 3,
   "id": "81cab7a8",
   "metadata": {
    "colab": {
     "base_uri": "https://localhost:8080/"
    },
    "id": "81cab7a8",
    "outputId": "9e976e79-ef36-4c99-e9ec-b6a4b5421f63"
   },
   "outputs": [
    {
     "name": "stdout",
     "output_type": "stream",
     "text": [
      "привет\n"
     ]
    }
   ],
   "source": [
    "alph = list('абвгдеёжзийклмнопрстуфхцчшщъыьэюя')\n",
    "deq1, deq2 = Deque(), Deque()\n",
    "for i in range(len(alph)):\n",
    "  deq1.addRight(alph[(i + 2) % len(alph)])\n",
    "\n",
    "with open(\"message.txt\") as file:\n",
    "  str = file.readline()\n",
    "  for s in str:\n",
    "    if s != \"\\n\":\n",
    "      deq2.addRight(s)\n",
    "decodeStr = \"\"\n",
    "for ch in deq2.values:\n",
    "  if ch in alph:\n",
    "    decodeStr += alph[deq1.indexOf(ch) + 1]\n",
    "  else:\n",
    "    decodeStr += ch\n",
    "print(decodeStr)"
   ]
  },
  {
   "cell_type": "markdown",
   "id": "c0894f47",
   "metadata": {
    "id": "c0894f47"
   },
   "source": [
    "### Задание №3\n",
    "Даны три стержня и n дисков различного размера. Диски можно надевать на стержни, образуя из них башни. Перенести n дисков со стержня А на стержень С, сохранив их первоначальный порядок. При переносе дисков необходимо соблюдать следующие правила:\n",
    "- на каждом шаге со стержня на стержень переносить только один диск;\n",
    "- диск нельзя помещать на диск меньшего размера;\n",
    "- для промежуточного хранения можно использовать стержень В.\n",
    "Реализовать алгоритм, используя три стека вместо стержней А, В, С. Информация о дисках хранится в исходном файле."
   ]
  },
  {
   "cell_type": "code",
   "execution_count": 6,
   "id": "9e91a9d4",
   "metadata": {
    "colab": {
     "base_uri": "https://localhost:8080/"
    },
    "id": "9e91a9d4",
    "outputId": "52bbbb74-f3bc-4088-a17d-1927dac3fad9"
   },
   "outputs": [
    {
     "name": "stdout",
     "output_type": "stream",
     "text": [
      "Количество дисков = 5\n",
      "[5, 4, 3, 2, 1] [] []\n",
      "[] [] [5, 4, 3, 2, 1]\n"
     ]
    }
   ],
   "source": [
    "n = int(input(\"Количество дисков = \"))\n",
    "A, B, C = [i for i in range(n,0,-1)], [], []\n",
    "print(A, B, C)\n",
    "\n",
    "def hanoi(n, start, tmp, finish):\n",
    "    if n <= 0:\n",
    "        return\n",
    "    hanoi(n-1, start, finish, tmp)\n",
    "    finish.append(start.pop())\n",
    "    hanoi(n - 1, tmp, start, finish)\n",
    "hanoi(n, A, B, C)\n",
    "print(A, B, C)"
   ]
  },
  {
   "cell_type": "markdown",
   "id": "e5b0be17",
   "metadata": {
    "id": "e5b0be17"
   },
   "source": [
    "### Задание №4\n",
    "Дан текстовый файл с программой на алгоритмическом языке. За один просмотр файла проверить баланс круглых скобок в тексте, используя стек."
   ]
  },
  {
   "cell_type": "code",
   "execution_count": 10,
   "id": "5b1df60a",
   "metadata": {
    "colab": {
     "base_uri": "https://localhost:8080/"
    },
    "id": "5b1df60a",
    "outputId": "543b160f-2e02-40dc-af1f-60cb1aa6e444"
   },
   "outputs": [
    {
     "name": "stdout",
     "output_type": "stream",
     "text": [
      "False\n"
     ]
    }
   ],
   "source": [
    "br = Deque()\n",
    "with open(\"brakets.txt\") as file:\n",
    "  string = file.readline()\n",
    "  for char in string:\n",
    "    if char != \"\\n\":\n",
    "      br.addRight(char)\n",
    "\n",
    "def check_brackets():\n",
    "  temp = Deque()\n",
    "  for char in br.values:\n",
    "    if char == \"(\":\n",
    "      temp.addRight(\"(\")\n",
    "    else:\n",
    "      if temp.size() == 0:\n",
    "        return False\n",
    "      temp.removeRight()\n",
    "  if temp.size() == 0:\n",
    "    return True\n",
    "  else:\n",
    "    return False\n",
    "print(check_brackets())"
   ]
  },
  {
   "cell_type": "markdown",
   "id": "c44cdd6b",
   "metadata": {
    "id": "c44cdd6b"
   },
   "source": [
    "### Задание №5\n",
    "Дан текстовый файл с программой на алгоритмическом языке. За один просмотр файла проверить баланс квадратных скобок в тексте, используя дек."
   ]
  },
  {
   "cell_type": "code",
   "execution_count": 14,
   "id": "36b8f400",
   "metadata": {
    "colab": {
     "base_uri": "https://localhost:8080/"
    },
    "id": "36b8f400",
    "outputId": "74ca7e42-565d-4ac6-d355-c286f82f011e"
   },
   "outputs": [
    {
     "name": "stdout",
     "output_type": "stream",
     "text": [
      "False\n"
     ]
    }
   ],
   "source": [
    "br = Deque()\n",
    "with open(\"brakets2.txt\") as file:\n",
    "  string = file.readline()\n",
    "  for char in string:\n",
    "    if char != \"\\n\":\n",
    "      br.addRight(char)\n",
    "\n",
    "def check_brackets():\n",
    "  temp = Deque()\n",
    "  for char in br.values:\n",
    "    if char == \"[\":\n",
    "      temp.addRight(\"[\")\n",
    "    else:\n",
    "      if temp.size() == 0:\n",
    "        return False\n",
    "      temp.removeRight()\n",
    "  if temp.size() == 0:\n",
    "    return True\n",
    "  else:\n",
    "    return False\n",
    "print(check_brackets())"
   ]
  },
  {
   "cell_type": "markdown",
   "id": "59d13dc7",
   "metadata": {
    "id": "59d13dc7"
   },
   "source": [
    "### Задание №6\n",
    "Дан файл из символов. Используя стек, за один просмотр файла напечатать сначала все цифры, затем все буквы, и, наконец, все остальные символы, сохраняя исходный порядок в каждой группе символов."
   ]
  },
  {
   "cell_type": "code",
   "execution_count": 16,
   "id": "297e36c2",
   "metadata": {
    "colab": {
     "base_uri": "https://localhost:8080/"
    },
    "id": "297e36c2",
    "outputId": "187b6c22-d49d-456c-9005-f27be688220f"
   },
   "outputs": [
    {
     "name": "stdout",
     "output_type": "stream",
     "text": [
      "344добрыйденьдайтемнебулкисбагетамизатем .       , ! \n"
     ]
    }
   ],
   "source": [
    "deq1 = Deque()\n",
    "with open(\"6.txt\") as file:\n",
    "  string = file.readline()\n",
    "  for char in string:\n",
    "    if char != \"\\n\":\n",
    "      deq1.addRight(char)\n",
    "sumbols = []\n",
    "nums = []\n",
    "other = []\n",
    "for char in deq1.values:\n",
    "  if char.isdigit() == True:\n",
    "    nums.append(char)\n",
    "  elif char.isalpha() == True:\n",
    "    sumbols.append(char)\n",
    "  else:\n",
    "    other.append(char)\n",
    "print(\"\".join(nums + sumbols + other))"
   ]
  },
  {
   "cell_type": "markdown",
   "id": "973f68bd",
   "metadata": {
    "id": "973f68bd"
   },
   "source": [
    "### Задание №7\n",
    "Дан файл из целых чисел. Используя дек, за один просмотр файла напечатать сначала все отрицательные числа, затем все положительные числа, сохраняя исходный порядок в каждой группе."
   ]
  },
  {
   "cell_type": "code",
   "execution_count": 18,
   "id": "c56fad66",
   "metadata": {
    "colab": {
     "base_uri": "https://localhost:8080/"
    },
    "id": "c56fad66",
    "outputId": "b7d9f939-4fca-4cd1-ce4c-25e21b413e5c"
   },
   "outputs": [
    {
     "name": "stdout",
     "output_type": "stream",
     "text": [
      "Исходный массив:\n",
      " 4 54 -5 3 6 -10 3 -2 34 2\n",
      "Измененный массив:\n",
      "-5 -10 -2 4 54 3 6 3 34 2 "
     ]
    }
   ],
   "source": [
    "deq = Deque()\n",
    "with open(\"7.txt\", \"r\", encoding=\"utf-8\") as readfile:\n",
    "    s = readfile.readline().split()\n",
    "    print(\"Исходный массив:\\n\",*s)\n",
    "    s = map(int, s)\n",
    "for n in s:\n",
    "    if n < 0:\n",
    "        deq.addLeft(n)\n",
    "    else:\n",
    "        deq.addRight(n)\n",
    "while deq.values:\n",
    "    x = deq.removeLeft()\n",
    "    if x < 0:\n",
    "        deq.addRight(x)\n",
    "    else:\n",
    "        deq.addLeft(x)\n",
    "        break\n",
    "print(\"Измененный массив:\")\n",
    "while deq.values:\n",
    "    x = deq.removeRight()\n",
    "    if x < 0:\n",
    "        print(x, end = \" \")\n",
    "    else:\n",
    "        deq.addRight(x)\n",
    "        while deq.values:\n",
    "            print(deq.removeLeft(), end = \" \")\n",
    "        break"
   ]
  },
  {
   "cell_type": "markdown",
   "id": "b9228191",
   "metadata": {
    "id": "b9228191"
   },
   "source": [
    "### Задание №8\n",
    "Дан текстовый файл. Используя стек, сформировать новый текстовый файл, содержащий строки исходного файла, записанные в обратном порядке: первая строка становится последней, вторая – предпоследней и т.д."
   ]
  },
  {
   "cell_type": "code",
   "execution_count": 22,
   "id": "981fbdfe",
   "metadata": {
    "colab": {
     "base_uri": "https://localhost:8080/"
    },
    "id": "981fbdfe",
    "outputId": "2c9e91c0-489f-4d29-b54e-322b3041f4e3"
   },
   "outputs": [
    {
     "name": "stdout",
     "output_type": "stream",
     "text": [
      "фазансидит \n",
      "где \n",
      "знать \n",
      "желает \n",
      "охотник \n",
      "каждый \n"
     ]
    }
   ],
   "source": [
    "stack = Queue()\n",
    "with open(\"8.txt\", \"r\", encoding=\"utf-8\") as readfile:\n",
    "    for string in readfile:\n",
    "        stack.enqueue(string)\n",
    "        \n",
    "final = Queue()\n",
    "while stack.queue:\n",
    "      final.enqueue(stack.dequeue())\n",
    "for i in final.queue:\n",
    "  print(i, end = \"\")"
   ]
  },
  {
   "cell_type": "markdown",
   "id": "rental-jerusalem",
   "metadata": {
    "id": "rental-jerusalem"
   },
   "source": [
    "### Вывод\n"
   ]
  },
  {
   "cell_type": "markdown",
   "id": "0c2b8899",
   "metadata": {
    "id": "0c2b8899"
   },
   "source": []
  }
 ],
 "metadata": {
  "colab": {
   "provenance": []
  },
  "kernelspec": {
   "display_name": "Python 3 (ipykernel)",
   "language": "python",
   "name": "python3"
  },
  "language_info": {
   "codemirror_mode": {
    "name": "ipython",
    "version": 3
   },
   "file_extension": ".py",
   "mimetype": "text/x-python",
   "name": "python",
   "nbconvert_exporter": "python",
   "pygments_lexer": "ipython3",
   "version": "3.9.13"
  }
 },
 "nbformat": 4,
 "nbformat_minor": 5
}
