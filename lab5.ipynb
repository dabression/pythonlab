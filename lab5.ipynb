{
 "cells": [
  {
   "cell_type": "markdown",
   "id": "db4b50f0",
   "metadata": {
    "id": "db4b50f0"
   },
   "source": [
    "# Лабораторная работа №5\n",
    "## Выполнил студент группы БСТ2103 Бидная М.В."
   ]
  },
  {
   "cell_type": "markdown",
   "id": "annual-symbol",
   "metadata": {
    "id": "annual-symbol"
   },
   "source": [
    "### Оглавление\n",
    "1. [Задание 1](#Задание-№1)\n",
    "2. [Задание 2](#Задание-№2)\n",
    "4. [Вывод](#Вывод)"
   ]
  },
  {
   "cell_type": "markdown",
   "id": "independent-spirit",
   "metadata": {
    "id": "independent-spirit"
   },
   "source": [
    "> Дополнительные модули, использованные при выполнение лабораторной"
   ]
  },
  {
   "cell_type": "code",
   "execution_count": 1,
   "id": "4839be2b",
   "metadata": {
    "id": "4839be2b"
   },
   "outputs": [],
   "source": [
    "# Необходим при замере скорости выполнения кода\n",
    "from datetime import datetime as t\n",
    "# Нужен для создания словаря в алг. Бойера-Мура\n",
    "from collections import defaultdict"
   ]
  },
  {
   "cell_type": "markdown",
   "id": "inclusive-motorcycle",
   "metadata": {
    "id": "inclusive-motorcycle"
   },
   "source": [
    "### Задание №1\n",
    "Реализовать методы поиска подстроки в строке. Добавить возможность ввода строки и подстроки с клавиатуры. Предусмотреть возможность существования пробела. Реализовать возможность выбора опции чувствительности или нечувствительности к регистру. Оценить время работы каждого алгоритма поиска и сравнить его со временем работы стандартной функции поиска, используемой в выбранном языке программирования."
   ]
  },
  {
   "cell_type": "markdown",
   "id": "interracial-communication",
   "metadata": {
    "id": "interracial-communication"
   },
   "source": [
    "#### Алгоритм Кнута-Морриса-Пратта"
   ]
  },
  {
   "cell_type": "code",
   "execution_count": 2,
   "id": "presidential-level",
   "metadata": {
    "id": "presidential-level"
   },
   "outputs": [],
   "source": [
    "#Используется для того, чтобы ввести красоту и интерактивность в Notebooks\n",
    "from IPython.display import HTML, display\n",
    "#Библиотека ipywidgets позволяет не только отображать, но и вносить информацию\n",
    "import ipywidgets as widgets\n",
    "\n",
    "import time"
   ]
  },
  {
   "cell_type": "code",
   "execution_count": 4,
   "id": "80w2foPcnXD9",
   "metadata": {
    "id": "80w2foPcnXD9"
   },
   "outputs": [],
   "source": [
    "#Префикс-функция\n",
    "def prefix(s):\n",
    "    #Префикс-функция от строки s и позиции i в ней - длина k\n",
    "    #наибольшего собственного префикса подстроки s[0:i], который не является этой строкой\n",
    "    #в который одновременно является суффиксом этой подстроки\n",
    "    p = [0] * len(s)\n",
    "    for i in range(1, len(s)):\n",
    "        k = p[i - 1]    #текущая длина префикса, который мы хотим продолжить. Гарантируется что s[0..k-1] = s[i-k..i-1]\n",
    "        while k > 0 and s[k] != s[i]:  #пока мы не можем продолжить текущий префикс\n",
    "            k = p[k - 1]        #уменьшаем его длину до следующей возможной\n",
    "        if s[k] == s[i]:\n",
    "            k += 1\n",
    "        p[i] = k       #такое может произойти только при k = 0\n",
    "    return p\n",
    "#Алгоритм Кнута-Морриса-Пратта\n",
    "def KMP(s, w):\n",
    "    #КМП-алгоритм.\n",
    "    #s: Строка, по которой будет произведен поиск\n",
    "    #w: Строка, которую будем искать\n",
    "    A = []\n",
    "    k = 0\n",
    "        \n",
    "    p = prefix(s)\n",
    "\n",
    "    for i in range(len(s)):\n",
    "        while k > 0 and s[i] != w[k]:\n",
    "            k = p[k-1]\n",
    "        if s[i] == w[k]:\n",
    "            k += 1\n",
    "        if k == len(w):\n",
    "            A.append((i - len(w) + 1, i+1))\n",
    "            k = p[k-1]\n",
    "\n",
    "    return A"
   ]
  },
  {
   "cell_type": "markdown",
   "id": "downtown-option",
   "metadata": {
    "id": "downtown-option"
   },
   "source": [
    "#### Упрощенный алгоритм Бойера-Мура"
   ]
  },
  {
   "cell_type": "code",
   "execution_count": 5,
   "id": "respective-reggae",
   "metadata": {
    "id": "respective-reggae"
   },
   "outputs": [],
   "source": [
    "#Упрощенный Бойера-Мура, если шаблон не совпадает с символом строки, то шаблон сдвигается на несколько символов вправо \n",
    "def preprocess(w):\n",
    "    #Строит таблицу смещений\n",
    "    T = [len(w)]*256\n",
    "    for i in range(len(w) - 1):\n",
    "        T[ord(w[i])] = len(w) - 1 - i   # сколько символов с правого края до этой буквы\n",
    "    return T\n",
    "\n",
    "def BM(s, w):\n",
    "    #Алгоритм Бойера-Мура\n",
    "    A = []\n",
    "    T = preprocess(w)\n",
    "    skip = 0\n",
    "    while len(s) - skip >= len(w):               # совпали, двигаемся дальше (от конца к началу)\n",
    "        if s[skip:skip + len(w)] == w:\n",
    "            A.append((skip, skip + len(w)))\n",
    "        skip += T[ord(s[skip + len(w) - 1])]     # иначе, продвигаемся по строке на d и начинаем с правого конца подстроки снова\n",
    "    return A"
   ]
  },
  {
   "cell_type": "markdown",
   "id": "A4zXFuKFoIdR",
   "metadata": {
    "id": "A4zXFuKFoIdR"
   },
   "source": [
    "####Встроенный поиск"
   ]
  },
  {
   "cell_type": "code",
   "execution_count": 6,
   "id": "d3IkGgmnoXCF",
   "metadata": {
    "id": "d3IkGgmnoXCF"
   },
   "outputs": [],
   "source": [
    "def builtin_search(s, w):\n",
    "    A = []\n",
    "    index = s.find(w)\n",
    "    while index != -1:\n",
    "        A.append((index, index + len(w)))\n",
    "        index = s.find(w, index + 1)\n",
    "    return A"
   ]
  },
  {
   "cell_type": "markdown",
   "id": "WsS1k4ouoZ48",
   "metadata": {
    "id": "WsS1k4ouoZ48"
   },
   "source": [
    "####Возможность существования пробела"
   ]
  },
  {
   "cell_type": "code",
   "execution_count": 7,
   "id": "kTjZtG1Goere",
   "metadata": {
    "id": "kTjZtG1Goere"
   },
   "outputs": [],
   "source": [
    "#Реализовать возможность выбора опции чувствительности или нечувствительности к регистру.\n",
    "def search(s, w, fn=KMP, ignore_case=True, ignore_space=False):\n",
    "    #Поиск подстроки с возможностью игнорирования пробелов и регистра\n",
    "    _s = s\n",
    "    _w = w\n",
    "    if ignore_case:\n",
    "        _s = _s.lower()\n",
    "        _w = _w.lower()\n",
    "    \n",
    "    if ignore_space:\n",
    "        _s = _s.replace(' ', '')\n",
    "        _w = _w.replace(' ', '')\n",
    "\n",
    "    A = fn(_s, _w)\n",
    "\n",
    "    if ignore_space:\n",
    "        nonspace = 0\n",
    "        kmp_without_space = 0\n",
    "        index = 0\n",
    "        while kmp_without_space < len(A) and index < len(s):\n",
    "            if A[kmp_without_space][0] == nonspace:\n",
    "                index_with_space_offsets = index\n",
    "                chars_count = 0\n",
    "                while chars_count < len(_w) and index_with_space_offsets < len(s):\n",
    "                    if s[index_with_space_offsets] != ' ':\n",
    "                        chars_count += 1\n",
    "                    index_with_space_offsets += 1\n",
    "                A[kmp_without_space] = (index, index_with_space_offsets)\n",
    "                kmp_without_space += 1\n",
    "            if s[index] != ' ': nonspace += 1\n",
    "            index += 1\n",
    "    \n",
    "    return A"
   ]
  },
  {
   "cell_type": "markdown",
   "id": "qRVOI-hrokLk",
   "metadata": {
    "id": "qRVOI-hrokLk"
   },
   "source": [
    "####Ввод строки и подстроки с клавиатуры"
   ]
  },
  {
   "cell_type": "code",
   "execution_count": 14,
   "id": "LnGILK3eonEV",
   "metadata": {
    "id": "LnGILK3eonEV"
   },
   "outputs": [
    {
     "data": {
      "application/vnd.jupyter.widget-view+json": {
       "model_id": "8e21341f58684bcbb3e52d2e93d1345b",
       "version_major": 2,
       "version_minor": 0
      },
      "text/plain": [
       "VBox(children=(Text(value='', description='Строка', placeholder='Введите строку'), Text(value='', description=…"
      ]
     },
     "metadata": {},
     "output_type": "display_data"
    }
   ],
   "source": [
    "search_string = widgets.Text(\n",
    "    description='Строка',\n",
    "    placeholder='Введите строку'\n",
    ")\n",
    "search_pattern = widgets.Text(\n",
    "    description='Паттерн',\n",
    "    placeholder='Введите строку'\n",
    ")\n",
    "\n",
    "ignore_case = widgets.Checkbox(\n",
    "    value=False,\n",
    "    description='Игнорировать регистр'\n",
    ")\n",
    "\n",
    "ignore_space = widgets.Checkbox(\n",
    "    value=False,\n",
    "    description='Игнорировать пробел'\n",
    ")\n",
    "\n",
    "algs = {'KMP': KMP, 'BM': BM, 'Builtin': builtin_search}\n",
    "alg = widgets.Dropdown(\n",
    "    options=['KMP', 'BM', 'Builtin'],\n",
    "    value='KMP',\n",
    "    description='Алгоритм'\n",
    ")\n",
    "\n",
    "result = widgets.HTML()\n",
    "\n",
    "def update(c):\n",
    "    if search_string.value and search_pattern.value:\n",
    "        try:\n",
    "            s = search_string.value\n",
    "            A = search(s, search_pattern.value, algs[alg.value], ignore_case.value, ignore_space.value)\n",
    "            result.value = ''\n",
    "            for i, j in A:\n",
    "                result.value += f'<div>{s[:i]}<b style=\"color: red\">{s[i:j]}</b>{s[j:]}</div>'\n",
    "        except Exception as e:\n",
    "            result.value = str(e)\n",
    "\n",
    "search_string.observe(update)\n",
    "search_pattern.observe(update)\n",
    "ignore_case.observe(update)\n",
    "ignore_space.observe(update)\n",
    "alg.observe(update)\n",
    "\n",
    "update({})\n",
    "\n",
    "widgets.VBox([\n",
    "    search_string,\n",
    "    search_pattern,\n",
    "    alg,\n",
    "    ignore_case,\n",
    "    ignore_space,\n",
    "    result\n",
    "])"
   ]
  },
  {
   "cell_type": "markdown",
   "id": "wblQwl-3or5R",
   "metadata": {
    "id": "wblQwl-3or5R"
   },
   "source": [
    "####Сравнение алгоритмов"
   ]
  },
  {
   "cell_type": "code",
   "execution_count": 11,
   "id": "Ed7X2CZDotc1",
   "metadata": {
    "id": "Ed7X2CZDotc1"
   },
   "outputs": [
    {
     "name": "stdout",
     "output_type": "stream",
     "text": [
      "КМР\n",
      "--- 0.0 seconds ---\n",
      "[(0, 3)]\n",
      "---------------------------------\n",
      "BM\n",
      "--- 0.00023317337036132812 seconds ---\n",
      "[(1, 3), (3, 5), (5, 7), (7, 9), (9, 11), (11, 13)]\n",
      "Встроенный поиск\n",
      "--- 0.0 seconds ---\n",
      "[(7, 10)]\n"
     ]
    }
   ],
   "source": [
    "import time\n",
    "print(\"КМР\")\n",
    "st = time.time()\n",
    "a=KMP('ABCBCBCBCBDBC','ABC')\n",
    "en=time.time()\n",
    "print(\"--- %s seconds ---\" % (en-st))\n",
    "print(a)\n",
    "print('---------------------------------')\n",
    "print(\"BM\")\n",
    "star=time.time()\n",
    "b=BM('ABCBCBCBCBCBCD','BC')\n",
    "end=time.time()\n",
    "print(\"--- %s seconds ---\" % (end-star))\n",
    "print(b)\n",
    "print(\"Встроенный поиск\")\n",
    "start=time.time()\n",
    "c=builtin_search('ABCDBDBDBFBCA','DBF')\n",
    "endd=time.time()\n",
    "print(\"--- %s seconds ---\" % (endd-start))\n",
    "print(c)"
   ]
  },
  {
   "cell_type": "markdown",
   "id": "hybrid-memorial",
   "metadata": {
    "id": "hybrid-memorial"
   },
   "source": [
    "### Задание №2\n",
    "Написать программу, определяющую, является ли данное\n",
    "расположение «решаемым», то есть можно ли из него за конечное число\n",
    "шагов перейти к правильному. Если это возможно, то необходимо найти хотя\n",
    "бы одно решение - последовательность движений, после которой числа будут\n",
    "расположены в правильном порядке.\n",
    "#### Входные данные: массив чисел, представляющий собой расстановку в\n",
    "Порядке «слева направо, сверху вниз». Число 0 обозначает пустое поле.\n",
    "Например, массив [1, 2, 3, 4, 5, 6, 7, 8, 9, 10, 11, 12, 13, 14, 15, 0] представляет\n",
    "собой «решенную» позицию элементов.\n",
    "#### Выходные данные: если решения нет, то функция должна вернуть\n",
    "Пустой массив []. Если решение есть, то необходимо представить решение —\n",
    "для каждого шага записывается номер передвигаемого на данном шаге\n",
    "элемента. "
   ]
  },
  {
   "cell_type": "code",
   "execution_count": 16,
   "id": "eleven-generic",
   "metadata": {
    "id": "eleven-generic"
   },
   "outputs": [
    {
     "name": "stdout",
     "output_type": "stream",
     "text": [
      "  1  2  3  4\n",
      "  5  6  7  8\n",
      " 13  9 11 12\n",
      " 10 14 15  0\n",
      "\n",
      "[15, 14, 10, 13, 9, 10, 14, 15]\n"
     ]
    }
   ],
   "source": [
    "from queue import PriorityQueue\n",
    "\n",
    "N = 4\n",
    "\n",
    "def moves(position):\n",
    "    blank = position.index(0)\n",
    "    i, j = divmod(blank, N)\n",
    "    offsets = []\n",
    "    if i > 0: offsets.append(-N)     # вниз\n",
    "    if i < N - 1: offsets.append(N)  # вверх\n",
    "    if j > 0: offsets.append(-1)     # вправо\n",
    "    if j < N - 1: offsets.append(1)  # влево\n",
    "    for offset in offsets:\n",
    "        swap = blank + offset\n",
    "        yield tuple(position[swap] if x==blank else position[blank] if x==swap else position[x] for x in range(N*N))\n",
    "\n",
    "\n",
    "def parity(permutation):\n",
    "    seen, cycles = set(), 0\n",
    "    for i in permutation:\n",
    "        if i not in seen:\n",
    "            cycles += 1\n",
    "            while i not in seen:\n",
    "                seen.add(i)\n",
    "                i = permutation[i]\n",
    "    return (cycles + len(permutation)) % 2\n",
    "\n",
    "\n",
    "class Position:\n",
    "    def __init__(self, position, start_distance):\n",
    "        self.position = position\n",
    "        self.start_distance = start_distance\n",
    "\n",
    "    def __lt__(self, other):\n",
    "        return self.start_distance < other.start_distance\n",
    "\n",
    "    def __str__(self):\n",
    "        return '\\n'.join((N*'{:3}').format(*[i%(N*N) for i in self.position[i:]]) for i in range(0, N*N, N))\n",
    "\n",
    "SOLVED = (1, 2, 3, 4, 5, 6, 7, 8, 9, 10, 11, 12, 13, 14, 15, 0)\n",
    "\n",
    "start = [1, 2, 3, 4, 5, 6, 7, 8, 13, 9, 11, 12, 10, 14, 15, 0]\n",
    "#1, 2, 3, 4, 5, 6, 7, 8, 13, 9, 11, 12, 10, 14, 15, 0\n",
    "\n",
    "if parity(start) == 0:\n",
    "    print('Нерешаемо')\n",
    "else:\n",
    "    start = tuple(start)\n",
    "\n",
    "    p = Position(start, 0)\n",
    "\n",
    "    print(p)\n",
    "    print()\n",
    "\n",
    "    candidates = PriorityQueue()\n",
    "    candidates.put(p)\n",
    "\n",
    "    visited = set([p])\n",
    "\n",
    "    came_from = {p.position: None}\n",
    "    \n",
    "    while p.position != SOLVED:\n",
    "        p = candidates.get()\n",
    "        for k in moves(p.position):\n",
    "            if k not in visited:\n",
    "                candidates.put(Position(k, p.start_distance + 1))\n",
    "                came_from[k] = p\n",
    "                visited.add(k)\n",
    "\n",
    "    path = []\n",
    "    prev = p\n",
    "    while p.position != start:\n",
    "        p = came_from[p.position]\n",
    "        number = p.position[prev.position.index(0)]\n",
    "        path.append(number)\n",
    "        prev = p\n",
    "    path.reverse()\n",
    "\n",
    "    print(path)"
   ]
  },
  {
   "cell_type": "markdown",
   "id": "arbitrary-amazon",
   "metadata": {
    "id": "arbitrary-amazon"
   },
   "source": [
    "### Вывод"
   ]
  },
  {
   "cell_type": "markdown",
   "id": "71bc58bf",
   "metadata": {
    "id": "71bc58bf"
   },
   "source": [
    "В ходе данной лабораторной работы мы научились искать подстроку в строке, используя алгоритм Кнута-Морриса-Пратта и упрощенный алгоритм Бойера-Мурк. Также реализовали возможность ввода строки и подстроки с клавиатуры и возможность выбора опции чувствительности или нечувствительности к регистру, предусмотрели возможность существования пробела, а также сравнили с работой встроенного поиска. Также написали программу, определяющую, является ли данное расположение «решаемым», то есть можно ли из него за конечное число шагов перейти к правильному. Если это возможно, то необходимо найти хотя бы одно решение - последовательность движений, после которой числа будут расположены в правильном порядке."
   ]
  },
  {
   "cell_type": "code",
   "execution_count": null,
   "id": "2013026c",
   "metadata": {},
   "outputs": [],
   "source": []
  }
 ],
 "metadata": {
  "colab": {
   "provenance": []
  },
  "kernelspec": {
   "display_name": "Python 3 (ipykernel)",
   "language": "python",
   "name": "python3"
  },
  "language_info": {
   "codemirror_mode": {
    "name": "ipython",
    "version": 3
   },
   "file_extension": ".py",
   "mimetype": "text/x-python",
   "name": "python",
   "nbconvert_exporter": "python",
   "pygments_lexer": "ipython3",
   "version": "3.9.13"
  }
 },
 "nbformat": 4,
 "nbformat_minor": 5
}
